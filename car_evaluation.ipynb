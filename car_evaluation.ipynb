{
 "cells": [
  {
   "cell_type": "markdown",
   "metadata": {},
   "source": [
    "# I. Loading and understanding data"
   ]
  },
  {
   "cell_type": "code",
   "execution_count": 62,
   "metadata": {},
   "outputs": [],
   "source": [
    "import pandas as pd\n",
    "import matplotlib.pyplot as plt\n",
    "import plotly.express as px\n",
    "import seaborn as sns\n",
    "import numpy as np\n",
    "from sklearn.model_selection import train_test_split\n",
    "from sklearn.neighbors import KNeighborsClassifier\n",
    "from sklearn import metrics\n",
    "from sklearn.metrics import (\n",
    "    confusion_matrix,\n",
    "    accuracy_score,\n",
    "    precision_score,\n",
    "    recall_score,\n",
    "    f1_score\n",
    ")\n",
    "from  matplotlib.ticker import PercentFormatter"
   ]
  },
  {
   "cell_type": "code",
   "execution_count": 2,
   "metadata": {},
   "outputs": [
    {
     "name": "stdout",
     "output_type": "stream",
     "text": [
      "<class 'pandas.core.frame.DataFrame'>\n",
      "RangeIndex: 1728 entries, 0 to 1727\n",
      "Data columns (total 7 columns):\n",
      " #   Column      Non-Null Count  Dtype \n",
      "---  ------      --------------  ----- \n",
      " 0   buying      1728 non-null   object\n",
      " 1   mantenance  1728 non-null   object\n",
      " 2   doors       1728 non-null   object\n",
      " 3   persons     1728 non-null   object\n",
      " 4   lug_boot    1728 non-null   object\n",
      " 5   safety      1728 non-null   object\n",
      " 6   decision    1728 non-null   object\n",
      "dtypes: object(7)\n",
      "memory usage: 94.6+ KB\n"
     ]
    }
   ],
   "source": [
    "# Import data\n",
    "df = pd.read_csv('car_evaluation.csv')\n",
    "# Convert the column names into first row\n",
    "df = pd.DataFrame(np.vstack([df.columns, df]))\n",
    "# Name columns\n",
    "column_names = ['buying','mantenance', 'doors', 'persons', 'lug_boot', 'safety', 'decision']\n",
    "df.columns = column_names\n",
    "df.info()"
   ]
  },
  {
   "cell_type": "code",
   "execution_count": 16,
   "metadata": {},
   "outputs": [
    {
     "data": {
      "text/html": [
       "<div>\n",
       "<style scoped>\n",
       "    .dataframe tbody tr th:only-of-type {\n",
       "        vertical-align: middle;\n",
       "    }\n",
       "\n",
       "    .dataframe tbody tr th {\n",
       "        vertical-align: top;\n",
       "    }\n",
       "\n",
       "    .dataframe thead th {\n",
       "        text-align: right;\n",
       "    }\n",
       "</style>\n",
       "<table border=\"1\" class=\"dataframe\">\n",
       "  <thead>\n",
       "    <tr style=\"text-align: right;\">\n",
       "      <th></th>\n",
       "      <th>buying</th>\n",
       "      <th>mantenance</th>\n",
       "      <th>doors</th>\n",
       "      <th>persons</th>\n",
       "      <th>lug_boot</th>\n",
       "      <th>safety</th>\n",
       "      <th>decision</th>\n",
       "    </tr>\n",
       "  </thead>\n",
       "  <tbody>\n",
       "    <tr>\n",
       "      <th>count</th>\n",
       "      <td>1728</td>\n",
       "      <td>1728</td>\n",
       "      <td>1728</td>\n",
       "      <td>1728</td>\n",
       "      <td>1728</td>\n",
       "      <td>1728</td>\n",
       "      <td>1728</td>\n",
       "    </tr>\n",
       "    <tr>\n",
       "      <th>unique</th>\n",
       "      <td>4</td>\n",
       "      <td>5</td>\n",
       "      <td>4</td>\n",
       "      <td>4</td>\n",
       "      <td>3</td>\n",
       "      <td>3</td>\n",
       "      <td>4</td>\n",
       "    </tr>\n",
       "    <tr>\n",
       "      <th>top</th>\n",
       "      <td>vhigh</td>\n",
       "      <td>high</td>\n",
       "      <td>2</td>\n",
       "      <td>4</td>\n",
       "      <td>small</td>\n",
       "      <td>low</td>\n",
       "      <td>unacc</td>\n",
       "    </tr>\n",
       "    <tr>\n",
       "      <th>freq</th>\n",
       "      <td>432</td>\n",
       "      <td>432</td>\n",
       "      <td>432</td>\n",
       "      <td>576</td>\n",
       "      <td>576</td>\n",
       "      <td>576</td>\n",
       "      <td>1210</td>\n",
       "    </tr>\n",
       "  </tbody>\n",
       "</table>\n",
       "</div>"
      ],
      "text/plain": [
       "       buying mantenance doors persons lug_boot safety decision\n",
       "count    1728       1728  1728    1728     1728   1728     1728\n",
       "unique      4          5     4       4        3      3        4\n",
       "top     vhigh       high     2       4    small    low    unacc\n",
       "freq      432        432   432     576      576    576     1210"
      ]
     },
     "execution_count": 16,
     "metadata": {},
     "output_type": "execute_result"
    }
   ],
   "source": [
    "df.describe()"
   ]
  },
  {
   "cell_type": "markdown",
   "metadata": {},
   "source": [
    "### 1) Check missing value"
   ]
  },
  {
   "cell_type": "code",
   "execution_count": 7,
   "metadata": {},
   "outputs": [
    {
     "data": {
      "text/plain": [
       "buying        0\n",
       "mantenance    0\n",
       "doors         0\n",
       "persons       0\n",
       "lug_boot      0\n",
       "safety        0\n",
       "decision      0\n",
       "dtype: int64"
      ]
     },
     "execution_count": 7,
     "metadata": {},
     "output_type": "execute_result"
    }
   ],
   "source": [
    "# Check missing value\n",
    "df[df.isna()].count()"
   ]
  },
  {
   "cell_type": "markdown",
   "metadata": {},
   "source": [
    "There is no missing value"
   ]
  },
  {
   "cell_type": "markdown",
   "metadata": {},
   "source": [
    "### 2) Distribution between classes"
   ]
  },
  {
   "cell_type": "code",
   "execution_count": 26,
   "metadata": {},
   "outputs": [
    {
     "data": {
      "text/html": [
       "<div>\n",
       "<style scoped>\n",
       "    .dataframe tbody tr th:only-of-type {\n",
       "        vertical-align: middle;\n",
       "    }\n",
       "\n",
       "    .dataframe tbody tr th {\n",
       "        vertical-align: top;\n",
       "    }\n",
       "\n",
       "    .dataframe thead th {\n",
       "        text-align: right;\n",
       "    }\n",
       "</style>\n",
       "<table border=\"1\" class=\"dataframe\">\n",
       "  <thead>\n",
       "    <tr style=\"text-align: right;\">\n",
       "      <th></th>\n",
       "      <th>Class</th>\n",
       "      <th>Count</th>\n",
       "      <th>Percent</th>\n",
       "    </tr>\n",
       "  </thead>\n",
       "  <tbody>\n",
       "    <tr>\n",
       "      <th>0</th>\n",
       "      <td>unacc</td>\n",
       "      <td>1210</td>\n",
       "      <td>70.02</td>\n",
       "    </tr>\n",
       "    <tr>\n",
       "      <th>1</th>\n",
       "      <td>acc</td>\n",
       "      <td>384</td>\n",
       "      <td>22.22</td>\n",
       "    </tr>\n",
       "    <tr>\n",
       "      <th>2</th>\n",
       "      <td>good</td>\n",
       "      <td>69</td>\n",
       "      <td>3.99</td>\n",
       "    </tr>\n",
       "    <tr>\n",
       "      <th>3</th>\n",
       "      <td>vgood</td>\n",
       "      <td>65</td>\n",
       "      <td>3.76</td>\n",
       "    </tr>\n",
       "  </tbody>\n",
       "</table>\n",
       "</div>"
      ],
      "text/plain": [
       "   Class  Count  Percent\n",
       "0  unacc   1210    70.02\n",
       "1    acc    384    22.22\n",
       "2   good     69     3.99\n",
       "3  vgood     65     3.76"
      ]
     },
     "execution_count": 26,
     "metadata": {},
     "output_type": "execute_result"
    }
   ],
   "source": [
    "# Find and count unique values of decision\n",
    "decision_unique_value = df['decision'].value_counts()\n",
    "df_decision = pd.DataFrame({'Class':decision_unique_value.index,'Count':decision_unique_value.values })\n",
    "df_decision['Percent'] = round(df_decision['Count']*100/df_decision['Count'].sum(),2)\n",
    "df_decision"
   ]
  },
  {
   "cell_type": "code",
   "execution_count": 27,
   "metadata": {},
   "outputs": [
    {
     "data": {
      "text/plain": [
       "Text(0.5, 1.0, 'Distribution of decision')"
      ]
     },
     "execution_count": 27,
     "metadata": {},
     "output_type": "execute_result"
    },
    {
     "data": {
      "image/png": "[encoded data removed]",
      "text/plain": [
       "<Figure size 500x500 with 1 Axes>"
      ]
     },
     "metadata": {},
     "output_type": "display_data"
    }
   ],
   "source": [
    "# function to add value labels\n",
    "sns.catplot(df_decision, x='Class', y= 'Percent', kind= 'bar', order = ['unacc','acc', 'good', 'vgood'], hue_order=['unacc','acc', 'good', 'vgood'], palette=['#b2bec3','#dfe6e9','#ffeaa7','#fdcb6e'])\n",
    "def addlabels(x,y):\n",
    "    for i in range(len(x)):\n",
    "        plt.text(i, y[i], y[i], ha = 'center')\n",
    "addlabels(df_decision['Class'],df_decision['Percent'])\n",
    "plt.title(\"Distribution of decision\")"
   ]
  },
  {
   "cell_type": "markdown",
   "metadata": {},
   "source": [
    "From the chart, we can see that:\n",
    "* unacceptable class is dominant with 70%\n",
    "* acceptable class accounts for 22%\n",
    "* mere of good and very good class."
   ]
  },
  {
   "cell_type": "markdown",
   "metadata": {},
   "source": [
    "### 2) Divide four classes into two classes\n",
    "acc and unacc"
   ]
  },
  {
   "cell_type": "code",
   "execution_count": 29,
   "metadata": {},
   "outputs": [],
   "source": [
    "df_origin = df.copy()"
   ]
  },
  {
   "cell_type": "code",
   "execution_count": 30,
   "metadata": {},
   "outputs": [],
   "source": [
    "df['decision'] = df['decision'].replace('good', 'acc')    \n",
    "df['decision'] = df['decision'].replace('vgood', 'acc')"
   ]
  },
  {
   "cell_type": "code",
   "execution_count": 31,
   "metadata": {},
   "outputs": [
    {
     "data": {
      "text/html": [
       "<div>\n",
       "<style scoped>\n",
       "    .dataframe tbody tr th:only-of-type {\n",
       "        vertical-align: middle;\n",
       "    }\n",
       "\n",
       "    .dataframe tbody tr th {\n",
       "        vertical-align: top;\n",
       "    }\n",
       "\n",
       "    .dataframe thead th {\n",
       "        text-align: right;\n",
       "    }\n",
       "</style>\n",
       "<table border=\"1\" class=\"dataframe\">\n",
       "  <thead>\n",
       "    <tr style=\"text-align: right;\">\n",
       "      <th></th>\n",
       "      <th>Class</th>\n",
       "      <th>Count</th>\n",
       "      <th>Percent</th>\n",
       "    </tr>\n",
       "  </thead>\n",
       "  <tbody>\n",
       "    <tr>\n",
       "      <th>0</th>\n",
       "      <td>unacc</td>\n",
       "      <td>1210</td>\n",
       "      <td>70.02</td>\n",
       "    </tr>\n",
       "    <tr>\n",
       "      <th>1</th>\n",
       "      <td>acc</td>\n",
       "      <td>518</td>\n",
       "      <td>29.98</td>\n",
       "    </tr>\n",
       "  </tbody>\n",
       "</table>\n",
       "</div>"
      ],
      "text/plain": [
       "   Class  Count  Percent\n",
       "0  unacc   1210    70.02\n",
       "1    acc    518    29.98"
      ]
     },
     "execution_count": 31,
     "metadata": {},
     "output_type": "execute_result"
    }
   ],
   "source": [
    "decision_unique_value2 = df['decision'].value_counts()\n",
    "df_decision2 = pd.DataFrame({'Class':decision_unique_value2.index,'Count':decision_unique_value2.values })\n",
    "df_decision2['Percent'] = round(df_decision2['Count']*100/df_decision2['Count'].sum(),2)\n",
    "df_decision2"
   ]
  },
  {
   "cell_type": "code",
   "execution_count": 33,
   "metadata": {},
   "outputs": [
    {
     "data": {
      "text/plain": [
       "Text(0.5, 1.0, 'Distribution of decision')"
      ]
     },
     "execution_count": 33,
     "metadata": {},
     "output_type": "execute_result"
    },
    {
     "data": {
      "image/png": "[encoded data removed]",
      "text/plain": [
       "<Figure size 500x500 with 1 Axes>"
      ]
     },
     "metadata": {},
     "output_type": "display_data"
    }
   ],
   "source": [
    "# function to add value labels\n",
    "sns.catplot(df_decision2, x='Class', y= 'Percent', kind= 'bar', order = ['unacc','acc'], hue_order=['unacc','acc'], palette=['#b2bec3','#fdcb6e'])\n",
    "addlabels(df_decision2['Class'],df_decision2['Percent'])\n",
    "plt.title(\"Distribution of decision\")"
   ]
  },
  {
   "cell_type": "markdown",
   "metadata": {},
   "source": [
    "# II. Exploratory data analysis"
   ]
  },
  {
   "cell_type": "markdown",
   "metadata": {},
   "source": [
    "## 1) Buying vs decision"
   ]
  },
  {
   "cell_type": "code",
   "execution_count": 89,
   "metadata": {},
   "outputs": [
    {
     "data": {
      "text/plain": [
       "Text(0.5, 1.0, 'Buying vs decision')"
      ]
     },
     "execution_count": 89,
     "metadata": {},
     "output_type": "execute_result"
    },
    {
     "data": {
      "image/png": "[encoded data removed]",
      "text/plain": [
       "<Figure size 591.375x500 with 1 Axes>"
      ]
     },
     "metadata": {},
     "output_type": "display_data"
    }
   ],
   "source": [
    "sns.catplot(df, x='buying', hue='decision', order = ['low','med','high','vhigh'], hue_order=['unacc','acc'], kind='count', palette=['#b2bec3','#fdcb6e'])\n",
    "plt.title(\"Buying vs decision\")"
   ]
  },
  {
   "attachments": {},
   "cell_type": "markdown",
   "metadata": {},
   "source": [
    "* Price can negatively affect decisions.\n",
    "* The number of unacc decisions increases together with the price.\n",
    "* The reverse pattern is true for acc decision."
   ]
  },
  {
   "cell_type": "markdown",
   "metadata": {},
   "source": [
    "## 2) Mantenance cost vs decision"
   ]
  },
  {
   "cell_type": "code",
   "execution_count": 82,
   "metadata": {},
   "outputs": [
    {
     "data": {
      "text/plain": [
       "Text(0.5, 1.0, 'Mantenance vs decision')"
      ]
     },
     "execution_count": 82,
     "metadata": {},
     "output_type": "execute_result"
    },
    {
     "data": {
      "image/png": "[encoded data removed]",
      "text/plain": [
       "<Figure size 591.375x500 with 1 Axes>"
      ]
     },
     "metadata": {},
     "output_type": "display_data"
    }
   ],
   "source": [
    "sns.catplot(df, x='mantenance', hue='decision', order = ['low','med','high','vhigh'], hue_order=['unacc','acc'], kind='count', palette=['#b2bec3','#fdcb6e'])\n",
    "plt.title(\"Mantenance vs decision\")"
   ]
  },
  {
   "cell_type": "markdown",
   "metadata": {},
   "source": [
    "* The number of decisions are almost the same in low and medium mantenance cost\n",
    "* Very high cost mantenance has the highest number of unacc decision and lowest acc decisions."
   ]
  },
  {
   "cell_type": "markdown",
   "metadata": {},
   "source": [
    "## 3) Doors vs decision"
   ]
  },
  {
   "cell_type": "code",
   "execution_count": 84,
   "metadata": {},
   "outputs": [
    {
     "data": {
      "text/plain": [
       "0           2\n",
       "1           2\n",
       "2           2\n",
       "3           2\n",
       "4           2\n",
       "        ...  \n",
       "1722    5more\n",
       "1723    5more\n",
       "1724    5more\n",
       "1725    5more\n",
       "1726    5more\n",
       "Name: doors, Length: 1727, dtype: object"
      ]
     },
     "execution_count": 84,
     "metadata": {},
     "output_type": "execute_result"
    }
   ],
   "source": [
    "df['doors']"
   ]
  },
  {
   "cell_type": "code",
   "execution_count": 85,
   "metadata": {},
   "outputs": [
    {
     "data": {
      "text/plain": [
       "Text(0.5, 1.0, 'Doors vs decision')"
      ]
     },
     "execution_count": 85,
     "metadata": {},
     "output_type": "execute_result"
    },
    {
     "data": {
      "image/png": "[encoded data removed]",
      "text/plain": [
       "<Figure size 591.375x500 with 1 Axes>"
      ]
     },
     "metadata": {},
     "output_type": "display_data"
    }
   ],
   "source": [
    "sns.catplot(df, x='doors', hue='decision', hue_order=['unacc','acc'], kind='count', palette=['#b2bec3','#fdcb6e'])\n",
    "plt.title(\"Doors vs decision\")"
   ]
  },
  {
   "cell_type": "markdown",
   "metadata": {},
   "source": [
    "* The increase of decision throughout the doors are quite slight.\n",
    "* It seems that doors is not a good feature to classify"
   ]
  },
  {
   "cell_type": "markdown",
   "metadata": {},
   "source": [
    "## 4) Persons vs decision "
   ]
  },
  {
   "cell_type": "code",
   "execution_count": 86,
   "metadata": {},
   "outputs": [
    {
     "data": {
      "text/plain": [
       "Text(0.5, 1.0, 'Persons vs decision')"
      ]
     },
     "execution_count": 86,
     "metadata": {},
     "output_type": "execute_result"
    },
    {
     "data": {
      "image/png": "[encoded data removed]",
      "text/plain": [
       "<Figure size 591.375x500 with 1 Axes>"
      ]
     },
     "metadata": {},
     "output_type": "display_data"
    }
   ],
   "source": [
    "sns.catplot(df, x='persons', hue='decision', hue_order=['unacc','acc'], kind='count', palette=['#b2bec3','#fdcb6e'])\n",
    "plt.title(\"Persons vs decision\")"
   ]
  },
  {
   "cell_type": "markdown",
   "metadata": {},
   "source": [
    "* There are only unacceptable decisions for 2 persons\n",
    "* The gap between the figures for 4 persons and more is not big."
   ]
  },
  {
   "cell_type": "markdown",
   "metadata": {},
   "source": [
    "## 5) Lug_boot vs decision"
   ]
  },
  {
   "cell_type": "code",
   "execution_count": 90,
   "metadata": {},
   "outputs": [
    {
     "data": {
      "text/plain": [
       "Text(0.5, 1.0, 'Lug_boot vs decision')"
      ]
     },
     "execution_count": 90,
     "metadata": {},
     "output_type": "execute_result"
    },
    {
     "data": {
      "image/png": "[encoded data removed]",
      "text/plain": [
       "<Figure size 591.375x500 with 1 Axes>"
      ]
     },
     "metadata": {},
     "output_type": "display_data"
    }
   ],
   "source": [
    "sns.catplot(df, x='lug_boot', hue='decision', hue_order=['unacc','acc'], kind='count', palette=['#b2bec3','#fdcb6e'])\n",
    "plt.title(\"Lug_boot vs decision\")"
   ]
  },
  {
   "cell_type": "markdown",
   "metadata": {},
   "source": [
    "* Small lug_boot has the lowest number of acc decision and highest for unacc decision\n",
    "* There is slight increase in acc decision when the size of lug_boot bigger and the reverse pattern for unacc decisions"
   ]
  },
  {
   "cell_type": "markdown",
   "metadata": {},
   "source": [
    "## 6) Safety vs decision"
   ]
  },
  {
   "cell_type": "code",
   "execution_count": 91,
   "metadata": {},
   "outputs": [
    {
     "data": {
      "text/plain": [
       "Text(0.5, 1.0, 'Safety vs decision')"
      ]
     },
     "execution_count": 91,
     "metadata": {},
     "output_type": "execute_result"
    },
    {
     "data": {
      "image/png": "[encoded data removed]",
      "text/plain": [
       "<Figure size 591.375x500 with 1 Axes>"
      ]
     },
     "metadata": {},
     "output_type": "display_data"
    }
   ],
   "source": [
    "sns.catplot(df, x='safety', hue='decision', order=['low','med','high'], hue_order=['unacc','acc'], kind='count', palette=['#b2bec3','#fdcb6e'])\n",
    "plt.title(\"Safety vs decision\")"
   ]
  },
  {
   "cell_type": "markdown",
   "metadata": {},
   "source": [
    "* There are only unacceptable decisions with low safety\n",
    "* There is slight increase in acc decision when the size of safety bigger and the reverse pattern for unacc decisions"
   ]
  },
  {
   "cell_type": "markdown",
   "metadata": {},
   "source": [
    "=> Buying (price), mantenance, persons, lug_boot and safety are interesting for classifying decisions."
   ]
  },
  {
   "cell_type": "markdown",
   "metadata": {},
   "source": [
    "# III. Preprocessing"
   ]
  },
  {
   "attachments": {},
   "cell_type": "markdown",
   "metadata": {},
   "source": [
    "* buying, mantenance:\n",
    "vhigh: 0,\n",
    "high: 1,\n",
    "med: 2,\n",
    "low: 3, \n",
    "\n",
    "* doors:\n",
    "2: 0,\n",
    "3: 1,\n",
    "4: 2,\n",
    "5more: 3,\n",
    "\n",
    "* persons:\n",
    "2: 0,\n",
    "4: 1,\n",
    "more: 2,\n",
    "\n",
    "* lug_boot:\n",
    "small: 0,\n",
    "med: 1,\n",
    "big: 2,\n",
    "\n",
    "* safety:\n",
    "med: 0,\n",
    "high: 1,\n",
    "low: 2,\n",
    "\n",
    "* decision:\n",
    "unacc: 0,\n",
    "acc: 1\n",
    "\n",
    "\n"
   ]
  },
  {
   "cell_type": "code",
   "execution_count": 42,
   "metadata": {},
   "outputs": [],
   "source": [
    "# Preprocessing class\n",
    "class Preprocessing:\n",
    "    def __init__(self, data):\n",
    "        self.data = data\n",
    "\n",
    "    # Create a function to transform categorical data\n",
    "    def transform_categorical_data(self, column):\n",
    "        '''\n",
    "        The function is to transforming categorical data to numerical data so that KNN can calculate distance\n",
    "\n",
    "        Args:\n",
    "            column: name of column that will be transfered\n",
    "        \n",
    "        Returns:\n",
    "            new data column\n",
    "        '''\n",
    "        categorical_values = self.data[column].unique()\n",
    "        new = 0\n",
    "        for categorical in categorical_values:\n",
    "            self.data[column] = self.data[column].replace(categorical, new)\n",
    "            new += 1\n",
    "        return self.data[column]"
   ]
  },
  {
   "cell_type": "code",
   "execution_count": 29,
   "metadata": {},
   "outputs": [
    {
     "data": {
      "text/plain": [
       "buying        object\n",
       "mantenance    object\n",
       "doors         object\n",
       "persons       object\n",
       "lug_boot      object\n",
       "safety        object\n",
       "decision      object\n",
       "dtype: object"
      ]
     },
     "execution_count": 29,
     "metadata": {},
     "output_type": "execute_result"
    }
   ],
   "source": [
    "df.dtypes"
   ]
  },
  {
   "cell_type": "markdown",
   "metadata": {},
   "source": [
    "Transform nominal and ordinal data from buying, mantenance, lug_boot, safety and decision"
   ]
  },
  {
   "cell_type": "code",
   "execution_count": 43,
   "metadata": {},
   "outputs": [],
   "source": [
    "preprocessing = Preprocessing(df)\n",
    "df['buying'] = preprocessing.transform_categorical_data('buying')\n",
    "df['mantenance'] = preprocessing.transform_categorical_data('mantenance')\n",
    "df['doors'] = preprocessing.transform_categorical_data('doors')\n",
    "df['persons'] = preprocessing.transform_categorical_data('persons')\n",
    "df['lug_boot'] = preprocessing.transform_categorical_data('lug_boot')\n",
    "df['safety'] = preprocessing.transform_categorical_data('safety')\n",
    "df['decision'] = preprocessing.transform_categorical_data('decision')"
   ]
  },
  {
   "cell_type": "code",
   "execution_count": 44,
   "metadata": {},
   "outputs": [
    {
     "data": {
      "text/html": [
       "<div>\n",
       "<style scoped>\n",
       "    .dataframe tbody tr th:only-of-type {\n",
       "        vertical-align: middle;\n",
       "    }\n",
       "\n",
       "    .dataframe tbody tr th {\n",
       "        vertical-align: top;\n",
       "    }\n",
       "\n",
       "    .dataframe thead th {\n",
       "        text-align: right;\n",
       "    }\n",
       "</style>\n",
       "<table border=\"1\" class=\"dataframe\">\n",
       "  <thead>\n",
       "    <tr style=\"text-align: right;\">\n",
       "      <th></th>\n",
       "      <th>buying</th>\n",
       "      <th>mantenance</th>\n",
       "      <th>doors</th>\n",
       "      <th>persons</th>\n",
       "      <th>lug_boot</th>\n",
       "      <th>safety</th>\n",
       "      <th>decision</th>\n",
       "    </tr>\n",
       "  </thead>\n",
       "  <tbody>\n",
       "    <tr>\n",
       "      <th>0</th>\n",
       "      <td>0</td>\n",
       "      <td>0</td>\n",
       "      <td>0</td>\n",
       "      <td>0</td>\n",
       "      <td>0</td>\n",
       "      <td>0</td>\n",
       "      <td>0</td>\n",
       "    </tr>\n",
       "    <tr>\n",
       "      <th>1</th>\n",
       "      <td>0</td>\n",
       "      <td>1</td>\n",
       "      <td>0</td>\n",
       "      <td>1</td>\n",
       "      <td>0</td>\n",
       "      <td>1</td>\n",
       "      <td>0</td>\n",
       "    </tr>\n",
       "    <tr>\n",
       "      <th>2</th>\n",
       "      <td>0</td>\n",
       "      <td>1</td>\n",
       "      <td>0</td>\n",
       "      <td>1</td>\n",
       "      <td>0</td>\n",
       "      <td>2</td>\n",
       "      <td>0</td>\n",
       "    </tr>\n",
       "    <tr>\n",
       "      <th>3</th>\n",
       "      <td>0</td>\n",
       "      <td>1</td>\n",
       "      <td>0</td>\n",
       "      <td>1</td>\n",
       "      <td>1</td>\n",
       "      <td>0</td>\n",
       "      <td>0</td>\n",
       "    </tr>\n",
       "    <tr>\n",
       "      <th>4</th>\n",
       "      <td>0</td>\n",
       "      <td>1</td>\n",
       "      <td>0</td>\n",
       "      <td>1</td>\n",
       "      <td>1</td>\n",
       "      <td>1</td>\n",
       "      <td>0</td>\n",
       "    </tr>\n",
       "    <tr>\n",
       "      <th>5</th>\n",
       "      <td>0</td>\n",
       "      <td>1</td>\n",
       "      <td>0</td>\n",
       "      <td>1</td>\n",
       "      <td>1</td>\n",
       "      <td>2</td>\n",
       "      <td>0</td>\n",
       "    </tr>\n",
       "    <tr>\n",
       "      <th>6</th>\n",
       "      <td>0</td>\n",
       "      <td>1</td>\n",
       "      <td>0</td>\n",
       "      <td>1</td>\n",
       "      <td>2</td>\n",
       "      <td>0</td>\n",
       "      <td>0</td>\n",
       "    </tr>\n",
       "    <tr>\n",
       "      <th>7</th>\n",
       "      <td>0</td>\n",
       "      <td>1</td>\n",
       "      <td>0</td>\n",
       "      <td>1</td>\n",
       "      <td>2</td>\n",
       "      <td>1</td>\n",
       "      <td>0</td>\n",
       "    </tr>\n",
       "    <tr>\n",
       "      <th>8</th>\n",
       "      <td>0</td>\n",
       "      <td>1</td>\n",
       "      <td>0</td>\n",
       "      <td>1</td>\n",
       "      <td>2</td>\n",
       "      <td>2</td>\n",
       "      <td>0</td>\n",
       "    </tr>\n",
       "    <tr>\n",
       "      <th>9</th>\n",
       "      <td>0</td>\n",
       "      <td>1</td>\n",
       "      <td>0</td>\n",
       "      <td>2</td>\n",
       "      <td>0</td>\n",
       "      <td>0</td>\n",
       "      <td>0</td>\n",
       "    </tr>\n",
       "  </tbody>\n",
       "</table>\n",
       "</div>"
      ],
      "text/plain": [
       "   buying  mantenance  doors  persons  lug_boot  safety  decision\n",
       "0       0           0      0        0         0       0         0\n",
       "1       0           1      0        1         0       1         0\n",
       "2       0           1      0        1         0       2         0\n",
       "3       0           1      0        1         1       0         0\n",
       "4       0           1      0        1         1       1         0\n",
       "5       0           1      0        1         1       2         0\n",
       "6       0           1      0        1         2       0         0\n",
       "7       0           1      0        1         2       1         0\n",
       "8       0           1      0        1         2       2         0\n",
       "9       0           1      0        2         0       0         0"
      ]
     },
     "execution_count": 44,
     "metadata": {},
     "output_type": "execute_result"
    }
   ],
   "source": [
    "# Data after processing\n",
    "df.head(10)"
   ]
  },
  {
   "cell_type": "markdown",
   "metadata": {},
   "source": [
    "# III. Building KNN from scratch"
   ]
  },
  {
   "cell_type": "code",
   "execution_count": 57,
   "metadata": {},
   "outputs": [],
   "source": [
    "class KNN:\n",
    "    def __init__(self, n_neighbors):\n",
    "        self.n_neighbors = n_neighbors\n",
    "\n",
    "    # Calculate distance between two points using Euclidean\n",
    "    def euclidean_distance(self, x1, x2):\n",
    "        return np.sqrt(np.sum(np.square(x1-x2)))\n",
    "\n",
    "    # Store x_train and y_train\n",
    "    def fit(self, X_train, y_train):\n",
    "        self.X_train = X_train\n",
    "        self.y_train = y_train\n",
    "\n",
    "    # Predict X\n",
    "    def predict(self, X):\n",
    "        predictions = []\n",
    "        for x in X:\n",
    "            prediction = self._predict(x)\n",
    "            predictions.append(prediction)\n",
    "        return np.array(predictions)\n",
    "\n",
    "    # Predict single x in X_test\n",
    "    def _predict(self, x):\n",
    "        distances = []\n",
    "        # Calculate the distances from x to all points in X_train\n",
    "        for x_train in self.X_train:\n",
    "            distance = self.euclidean_distance(x,x_train)\n",
    "            distances.append(distance)\n",
    "        distances = np.array(distances)\n",
    "        # Get index of n_neighbors after sorting distances\n",
    "        n_neighbors_idxs = np.argsort(distances)[: self.n_neighbors]\n",
    "        # Trace back to find labels of n_neighbors\n",
    "        labels = self.y_train[n_neighbors_idxs]\n",
    "        labels = list(labels)\n",
    "        # Find the most frequency label which is the predict label\n",
    "        most_occuring_value = max(labels,key=labels.count)\n",
    "        return most_occuring_value"
   ]
  },
  {
   "cell_type": "code",
   "execution_count": 97,
   "metadata": {},
   "outputs": [],
   "source": [
    "class Evaluation:\n",
    "    '''\n",
    "    This is document of Evaluatin class.\n",
    "    Use this class to do some following tasks:\n",
    "\n",
    "    Methods:\n",
    "    - '__init__': initializes the class\n",
    "    - 'run_model': to run KNN\n",
    "    - 'calculate_accuracy': to compute accuracy of KNN model\n",
    "    - 'compare_metrics_k': to calculate the accuracy and f1_score for KNN model with the list of k\n",
    "    - 'calculate_confusion_matrix': to calculate the confusion matrix for a single k\n",
    "    - 'plot_evaluation': to plot the accuracy and f1_score of model with different k values\n",
    "    '''\n",
    "\n",
    "    def __init__(self, k_range, X_train, y_train, X_test, y_test):\n",
    "        self.k_range = k_range\n",
    "        self.X_train = X_train\n",
    "        self.y_train = y_train\n",
    "        self.X_test = X_test\n",
    "        self.y_test = y_test\n",
    "        self.neighbors = np.arange(1,self.k_range)\n",
    "\n",
    "    # Running model\n",
    "    def run_model(self, k):\n",
    "        '''\n",
    "        This function is to run the KNN model\n",
    "\n",
    "        Dependencies: none\n",
    "\n",
    "        Args:\n",
    "        k: the number of neighbors\n",
    "\n",
    "        Returns:\n",
    "        predicted_results: array of predicted results\n",
    "        '''\n",
    "        knn = KNN(k)\n",
    "        knn.fit(self.X_train, self.y_train)\n",
    "        predicted_results = knn.predict(self.X_test)\n",
    "        return(predicted_results)\n",
    "    \n",
    "    # Calculate accuracy\n",
    "    def calculate_accuracy(self,y_pred, y_true):\n",
    "        '''\n",
    "        This function is to calculate the accuracy of KNN model with a particular k\n",
    "\n",
    "        Dependencies:\n",
    "        run_model: this function should be called before calculate_accuracy\n",
    "\n",
    "        Args:\n",
    "        y_pred: array of predicted class by model\n",
    "        y_true: array of actual class we already have\n",
    "\n",
    "        Returns:\n",
    "        accuracy: value for the accuracy of model\n",
    "        '''\n",
    "        correct_prediction = np.sum(y_pred==y_true)\n",
    "        accuracy = correct_prediction/y_true.shape[0]\n",
    "        return(accuracy)\n",
    "\n",
    "    # Function compare accuracy of many different values of K\n",
    "    def calculate_metrics_k(self):\n",
    "        ''' \n",
    "        This function is to calculate the accuracy, recall_score, precision_score and f1 score of many k-neighbors\n",
    "\n",
    "        Dependencies: none\n",
    "\n",
    "        Args: none\n",
    "\n",
    "        Returns: none\n",
    "\n",
    "        '''\n",
    "\n",
    "        # Setup arrays to store training and test accuracies\n",
    "        self.test_accuracy = np.empty(len(self.neighbors))\n",
    "        self.f1_scores = np.empty(len(self.neighbors))\n",
    "        self.recall_score = np.empty(len(self.neighbors))\n",
    "        self.precision_score = np.empty(len(self.neighbors))\n",
    "        # Call model and compute accuracy for each K\n",
    "        for i,k in enumerate(self.neighbors):\n",
    "            # Calling run_model funtion\n",
    "            predicted_results = self.run_model(k)\n",
    "            # Compute accuracy\n",
    "            self.test_accuracy[i] = self.calculate_accuracy(predicted_results, self.y_test)\n",
    "            # Compute recall\n",
    "            self.recall_score[i] = recall_score(self.y_test, predicted_results)\n",
    "            # Compute precision\n",
    "            self.precision_score[i] = precision_score(self.y_test, predicted_results)\n",
    "            # Compute f1_score\n",
    "            self.f1_scores[i] = f1_score(self.y_test, predicted_results)\n",
    "\n",
    "    # Function calculate confusion matrix\n",
    "    def calculate_confusion_matrix(self, k):\n",
    "        '''\n",
    "        This function is to calculate confusion matrix for a particular k\n",
    "        \n",
    "        Dependencies:\n",
    "        run_model: this function should be called before calculate_confusion_matrix\n",
    "\n",
    "        Arg:\n",
    "        k: value of k-neighbors\n",
    "\n",
    "        Returns: none\n",
    "        '''\n",
    "        predicted_results = self.run_model(k)\n",
    "        confusion_matrix = metrics.confusion_matrix(self.y_test, predicted_results)\n",
    "        cm_display = metrics.ConfusionMatrixDisplay(confusion_matrix = confusion_matrix, display_labels = [False, True])\n",
    "        cm_display.plot()\n",
    "        plt.show()\n",
    "\n",
    "    # Function plot accuracy result\n",
    "    def plot_evaluation(self):\n",
    "        ''' \n",
    "        This function is to plot test accuracy and f1_scores for KNN model with different k values.\n",
    "\n",
    "        Dependencies:\n",
    "        compare_accuracy_f1score_k: this function should be called before plot_evaluation\n",
    "\n",
    "        Args: none\n",
    "        Returns: none\n",
    "\n",
    "        '''\n",
    "        plt.title('k-NN Varying number of neighbors')\n",
    "        plt.plot(self.neighbors, self.test_accuracy, label='Test accuracy', color='#45aaf2')\n",
    "        plt.plot(self.neighbors, self.recall_score, label='Recall score', color='#4b7bec')\n",
    "        plt.plot(self.neighbors, self.precision_score, label='Precision score', color='#a55eea')\n",
    "        plt.plot(self.neighbors, self.f1_scores, label='F1 score', color='#f7b731')\n",
    "        plt.legend()\n",
    "        plt.xlabel('Number of neighbors')\n",
    "        plt.ylabel('')\n",
    "        plt.show()"
   ]
  },
  {
   "cell_type": "code",
   "execution_count": 59,
   "metadata": {},
   "outputs": [],
   "source": [
    "# Create x_train and y_train\n",
    "X = df.drop(columns=['decision'])\n",
    "y = df['decision']\n",
    "# Convert X,y to numpy array\n",
    "X = X.to_numpy()\n",
    "y = y.to_numpy()"
   ]
  },
  {
   "cell_type": "code",
   "execution_count": 93,
   "metadata": {},
   "outputs": [
    {
     "name": "stdout",
     "output_type": "stream",
     "text": [
      "Length of train dataset 1209\n",
      "Length of test dataset 519\n"
     ]
    }
   ],
   "source": [
    "# Create train and test dataset\n",
    "X_train, X_test, y_train, y_test = train_test_split(X, y, test_size=0.3, stratify=y, random_state=42)\n",
    "# Length of train and test\n",
    "print('Length of train dataset',X_train.shape[0])\n",
    "print('Length of test dataset',X_test.shape[0])"
   ]
  },
  {
   "cell_type": "code",
   "execution_count": 98,
   "metadata": {},
   "outputs": [],
   "source": [
    "# Evaluate model with K from 1 to 9   \n",
    "evaluation = Evaluation(15,X_train, y_train, X_test, y_test)   \n",
    "# Calculate f1-score and accuracy\n",
    "evaluation.calculate_metrics_k()\n",
    "# Plot f1-score and accuracy\n",
    "evaluation.plot_evaluation()"
   ]
  },
  {
   "cell_type": "markdown",
   "metadata": {},
   "source": [
    "As can be seen from the chart, K=7 gives us the most accuracy prediction."
   ]
  },
  {
   "cell_type": "markdown",
   "metadata": {},
   "source": [
    "Assessing model by confusion matrix with K=7"
   ]
  },
  {
   "attachments": {},
   "cell_type": "markdown",
   "metadata": {},
   "source": [
    "**TRAM:** \n",
    "2. Which issues can happen if k is even number?\n",
    "3. What if k >= 9 can create higher results than 7?"
   ]
  },
  {
   "cell_type": "code",
   "execution_count": 21,
   "metadata": {},
   "outputs": [
    {
     "data": {
      "image/png": "[encoded data removed]",
      "text/plain": [
       "<Figure size 640x480 with 2 Axes>"
      ]
     },
     "metadata": {},
     "output_type": "display_data"
    }
   ],
   "source": [
    "evaluation.calculate_confusion_matrix(7)"
   ]
  },
  {
   "attachments": {},
   "cell_type": "markdown",
   "metadata": {},
   "source": [
    "**TRAM MORE SUGGESTIONS:**\n",
    "- You had this evaluation from EDA: \"Buying (price), mantenance, persons, lug_boot and safety are interesting for classifying decisions.\" So you can check how difference of results if only using these columns for prediction."
   ]
  },
  {
   "cell_type": "markdown",
   "metadata": {},
   "source": []
  }
 ],
 "metadata": {
  "kernelspec": {
   "display_name": "Python 3.10.7 ('venv': venv)",
   "language": "python",
   "name": "python3"
  },
  "language_info": {
   "codemirror_mode": {
    "name": "ipython",
    "version": 3
   },
   "file_extension": ".py",
   "mimetype": "text/x-python",
   "name": "python",
   "nbconvert_exporter": "python",
   "pygments_lexer": "ipython3",
   "version": "3.10.7"
  },
  "orig_nbformat": 4,
  "vscode": {
   "interpreter": {
    "hash": "c47fc5ebfb10aede846fd90b8399497dfb69f35ed963dd59304fb1660364fc65"
   }
  }
 },
 "nbformat": 4,
 "nbformat_minor": 2
}
